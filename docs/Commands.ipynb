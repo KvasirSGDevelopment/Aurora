{
 "cells": [
  {
   "cell_type": "markdown",
   "metadata": {},
   "source": [
    "# Aurora 2.0 Commands"
   ]
  },
  {
   "cell_type": "markdown",
   "metadata": {},
   "source": [
    "#### Bot\n",
    "|Command                    |       |Description                                                      |\n",
    "|---------------------------|-------|-----------------------------------------------------------------|\n",
    "|help                       |       |Shows this message.                                              |\n",
    "#### Music\n",
    "|Command                    |       |Description                                                      |\n",
    "|---------------------------|-------|-----------------------------------------------------------------|\n",
    "|play [link / name of song] |       | Plays a song.                                                   |\n",
    "|stop                       |       |Stops playing audio and leaves the voice channel.                |\n",
    "|pause                      |       |Pauses the currently played song.                                |\n",
    "|resume                     |       |Resumes the currently played song.                               |\n",
    "|skip                       |       |Vote to skip a song. The song requester can automatically skip.  |\n",
    "|summon                     |       |Summons the bot to join your voice channel.                      |\n",
    "|vjoin [name of channel]    |       |Joins a voice channel.                                           |\n",
    "|playing                    |       |Shows info about the currently played song.                      |\n",
    "|volume [nuber in %]        |       |Sets the volume of the currently playing song.                   |\n",
    "#### RoleManagement\n",
    "|Command                    |       |Description                                                      |\n",
    "|---------------------------|-------|-----------------------------------------------------------------|\n",
    "|roles                      |       |List all available roles                                         |\n",
    "|join [Role]                |       |Join a avaiable role                                             |\n",
    "#### AFK\n",
    "|Command                    |       |Description                                                      |\n",
    "|---------------------------|-------|-----------------------------------------------------------------|\n",
    "|afk [optional: AFK Message]|       |     Set yourself as AFK, either with or without a custom message|"
   ]
  },
  {
   "cell_type": "markdown",
   "metadata": {
    "collapsed": true
   },
   "source": [
    "# Command ChangeLog\n",
    "|Added      |Section|Description              |\n",
    "|-----------|-------|-------------------------|\n",
    "|19/03/2017 |Music  |All of the music commands|"
   ]
  },
  {
   "cell_type": "code",
   "execution_count": null,
   "metadata": {
    "collapsed": true
   },
   "outputs": [],
   "source": []
  }
 ],
 "metadata": {
  "kernelspec": {
   "display_name": "Python 3",
   "language": "python",
   "name": "python3"
  },
  "language_info": {
   "codemirror_mode": {
    "name": "ipython",
    "version": 3
   },
   "file_extension": ".py",
   "mimetype": "text/x-python",
   "name": "python",
   "nbconvert_exporter": "python",
   "pygments_lexer": "ipython3",
   "version": "3.6.1"
  }
 },
 "nbformat": 4,
 "nbformat_minor": 2
}
