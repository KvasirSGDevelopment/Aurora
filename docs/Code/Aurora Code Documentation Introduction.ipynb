{
 "cells": [
  {
   "cell_type": "markdown",
   "metadata": {},
   "source": [
    "# Introduction\n",
    "## About Aurora\n",
    "Aurora is a Multi functional Discord bot written in python3 using the Python package Discord.py the main focus of the bot is to design something that we can use on our server for server management and fun. As well as enhance our skills in python coding.\n",
    "## This Documentation\n",
    "This documentation is by far a test of development, by Sagooper to test how exactly we can bring a documentation about the code to new coders or coders who want to build their own bot.\n",
    "## About the Team\n",
    "The Bot is officially property of the non-profit Organisation KvasirSG Development and Licensed under the MIT license.\n",
    "\n",
    "### The Team:\n",
    "- Lead Project designer and Lead Coder: Luke\n",
    "- Information, Documentation, website and news: Sage"
   ]
  },
  {
   "cell_type": "markdown",
   "metadata": {},
   "source": [
    "# Directory style tree"
   ]
  },
  {
   "cell_type": "markdown",
   "metadata": {},
   "source": [
    "- Aurora\n",
    "    - config\n",
    "        - servers\n",
    "            - temp.json\n",
    "        - information.txt\n",
    "        - auth.py\n",
    "        - config.json\n",
    "    - docs\n",
    "        - Code\n",
    "            - (All documentation related to the Aurora's code)\n",
    "        - Changelog.ipnb\n",
    "        - Commands.ipnb\n",
    "    - img\n",
    "        - (Images Aurora Uses for some commands).\n",
    "    - src\n",
    "        - modules\n",
    "            - init.py\n",
    "            - admin.py\n",
    "            - AFK.py\n",
    "            - music.py\n",
    "            - MusicV2.py\n",
    "            - RoleManagement.py\n",
    "        - init.py\n",
    "        - commands.py\n",
    "        - login.py\n",
    "        - permissions.py\n",
    "        - settings.py\n",
    "        - watcher.py\n",
    "    - run.py"
   ]
  },
  {
   "cell_type": "markdown",
   "metadata": {},
   "source": [
    "# Getting into the coding\n",
    "Hey I am Sage Co Developer on Aurora and the Lead Documentation Writer, I am doing this documentation of the aurora code for our future memebers to understand what is going on. this guide is based for beginners or people who have just started in Python programming as Aurora is based on skill building from a beginner level.\n",
    "\n",
    "Each file usually got their own notebook to cover what is going on besides run.py as it is little and simple.\n",
    "## run.py"
   ]
  },
  {
   "cell_type": "markdown",
   "metadata": {},
   "source": [
    "This Imports the login file from src and runs it:"
   ]
  },
  {
   "cell_type": "code",
   "execution_count": null,
   "metadata": {},
   "outputs": [],
   "source": [
    "import src.login"
   ]
  }
 ],
 "metadata": {
  "kernelspec": {
   "display_name": "Python 3",
   "language": "python",
   "name": "python3"
  },
  "language_info": {
   "codemirror_mode": {
    "name": "ipython",
    "version": 3
   },
   "file_extension": ".py",
   "mimetype": "text/x-python",
   "name": "python",
   "nbconvert_exporter": "python",
   "pygments_lexer": "ipython3",
   "version": "3.6.1"
  }
 },
 "nbformat": 4,
 "nbformat_minor": 2
}
